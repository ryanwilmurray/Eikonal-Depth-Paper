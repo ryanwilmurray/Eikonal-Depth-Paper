{
 "cells": [
  {
   "cell_type": "code",
   "execution_count": 5,
   "metadata": {},
   "outputs": [],
   "source": [
    "# Illustrates the multimodality property of the eikonal depth\n",
    "import numpy as np\n",
    "import scipy as sp\n",
    "from numpy import linalg as la\n",
    "import math\n",
    "\n",
    "import os\n",
    "\n",
    "import matplotlib.pyplot as plt\n",
    "plt.rc('xtick', labelsize=16)   \n",
    "plt.rc('ytick', labelsize=16) \n",
    "plt.rcParams[\"font.family\"] = \"serif\"\n",
    "plt.rcParams[\"mathtext.fontset\"] = \"dejavuserif\"\n",
    "\n",
    "N=128\n",
    "ratio=4\n",
    "n=(N+1+2*ratio)**2\n",
    "\n",
    "\n",
    "thickness=ratio/N\n",
    "\n",
    "# Generate points when using the grid\n",
    "x=np.linspace(-1-thickness,1+thickness,N+1+2*ratio)\n",
    "y=np.linspace(-1-thickness,1+thickness,N+1+2*ratio)\n",
    "points=np.empty((0,2))\n",
    "for i in x:\n",
    "    for j in y:\n",
    "        points=np.append(points,[[i,j]],axis=0)\n",
    "\n",
    "#Find points that are in the boundary region\n",
    "in_boundary = 1*(points[:,0]<=-1)+1*(points[:,0]>=1)+1*(points[:,1]<=-1)+1*(points[:,1]>=1)\n",
    "in_boundary = 1*(in_boundary>0)\n",
    "\n",
    "# Needed when using the grid\n",
    "nEffective=(N+1)**2\n",
    "\n",
    "\n",
    "X=points[:,0]\n",
    "Y=points[:,1]\n",
    "F=np.zeros((n,1))\n",
    "f=np.zeros((n,1))\n",
    "\n",
    "# This is half the distance that separates the means\n",
    "half_sep= 2\n",
    "\n",
    "sx1=0.25\n",
    "sx2=0.25\n",
    "rho=0.0\n",
    "\n",
    "cov = np.array([[sx1**2, rho*sx1*sx2], [rho*sx1*sx2, sx2**2]])\n",
    "covInv=la.inv(cov)\n",
    "covDet=la.det(cov)\n",
    "Mu=half_sep*np.array([[-0.5*np.sqrt(2)*0.25,-0.5*np.sqrt(2)*0.25],])\n",
    "\n",
    "for i in range(n):\n",
    "    X=np.array([points[i,:],])\n",
    "    f[i]=np.exp(-0.5*(X-Mu)@covInv@np.transpose(X-Mu))/(np.pi*2*np.sqrt(covDet))\n",
    "\n",
    "\n",
    "sx1=0.25\n",
    "sx2=0.25\n",
    "rho=0.0\n",
    "\n",
    "cov = np.array([[sx1**2, rho*sx1*sx2], [rho*sx1*sx2, sx2**2]])\n",
    "covInv=la.inv(cov)\n",
    "covDet=la.det(cov)\n",
    "Mu=half_sep*np.array([[0.5*np.sqrt(2)*0.25,0.5*np.sqrt(2)*0.25],])\n",
    "\n",
    "for i in range(n):\n",
    "    X=np.array([points[i,:],])\n",
    "    f[i]=0.5*(f[i]+np.exp(-0.5*(X-Mu)@covInv@np.transpose(X-Mu))/(np.pi*2*np.sqrt(covDet)))\n",
    "\n",
    "for i in range(n):\n",
    "    F[i]=1/f[i]\n",
    "    \n",
    "F[np.nonzero(in_boundary)]=0"
   ]
  },
  {
   "cell_type": "code",
   "execution_count": 6,
   "metadata": {},
   "outputs": [
    {
     "name": "stdout",
     "output_type": "stream",
     "text": [
      "Minimum number of neighbors\n",
      "17\n",
      "Maximum number of neighbors\n",
      "49\n"
     ]
    }
   ],
   "source": [
    "from scipy.spatial.distance import pdist,squareform\n",
    "\n",
    "from sklearn.neighbors import radius_neighbors_graph\n",
    "\n",
    "# Cut-off for the neighborhood graph\n",
    "radius=2*ratio/N\n",
    "sigma=0.2\n",
    "\n",
    "sparse_graph = radius_neighbors_graph(points, radius, mode='connectivity',include_self=True)\n",
    "\n",
    "dist_mat = radius_neighbors_graph(points, radius, mode='distance',include_self=True)\n",
    "wght_mat=dist_mat\n",
    "wght_mat.data=np.exp(-dist_mat.data**2/(2*sigma**2*radius**2))/(np.pi*nEffective*radius**4*sigma**4)\n",
    "\n",
    "print('Minimum number of neighbors')\n",
    "print(np.min(np.sum(1*(sparse_graph>0),axis=1)))\n",
    "print('Maximum number of neighbors')\n",
    "print(np.max(np.sum(1*(sparse_graph>0),axis=1)))"
   ]
  },
  {
   "cell_type": "code",
   "execution_count": 7,
   "metadata": {
    "scrolled": false
   },
   "outputs": [
    {
     "name": "stdout",
     "output_type": "stream",
     "text": [
      "Calculations complete\n"
     ]
    }
   ],
   "source": [
    "values = 100*np.ones(n)\n",
    "\n",
    "#Initialize the solved set/list/values\n",
    "solved_list = np.nonzero(in_boundary)[0]\n",
    "solved_set = set(solved_list)\n",
    "values[solved_list] = 0.\n",
    "\n",
    "max_solved = 0.\n",
    "\n",
    "from scipy.sparse import find\n",
    "\n",
    "#Initialize the considered set\n",
    "considered_set = set()\n",
    "for i in solved_list:\n",
    "    neighbors = set(find(sparse_graph[i,:])[1])\n",
    "    considered_set = considered_set.union(neighbors.difference(solved_set))\n",
    "update_set = considered_set\n",
    "\n",
    "#Create a list so that neighbor_set_list[i] = {Neighbors of i}\n",
    "neighbor_set_list = []\n",
    "for i in range(n):\n",
    "    neighbor_set_list.append(set(find(sparse_graph[i,:])[1]))\n",
    "k = len(solved_set)\n",
    "\n",
    "\n",
    "while considered_set:\n",
    "    \n",
    "    #This is just a progress indicator\n",
    "    if k%100 == 0:\n",
    "        print(\"{:.2f} %\".format(k/n*100),end='\\r')\n",
    "    k += 1\n",
    "    \n",
    "    \n",
    "    #Letting num_iter be small after some burn-in period.\n",
    "    if k > 100:\n",
    "        num_iter = 1\n",
    "    #print(len(considered_set))\n",
    "    new_max_solved = 1000.\n",
    "    new_max_solved_index = -1\n",
    "\n",
    "    for i in update_set:\n",
    "        neighbors = neighbor_set_list[i]\n",
    "        solved_neighbors = list(neighbors.intersection(solved_set))  \n",
    "        neighbor_weights = wght_mat[i,solved_neighbors].toarray()[0]\n",
    "        neighbor_values = values[solved_neighbors]\n",
    "            \n",
    "            \n",
    "        values[i] = (neighbor_values.dot(neighbor_weights) + np.sqrt(neighbor_values.dot(neighbor_weights)**2 - np.sum(neighbor_weights)*((neighbor_values**2).dot(neighbor_weights) - 1/F[i]**2)))/np.sum(neighbor_weights)\n",
    "    \n",
    "    #Here we use update set to track places in the considered set where values need to be updates (i.e. there is a new solved neighbor)\n",
    "    l = list(considered_set)\n",
    "    min_index = l[np.argmin(values[l])]\n",
    "    solved_set.add(min_index)\n",
    "    solved_list = list(solved_set)\n",
    "    considered_set.remove(min_index)\n",
    "    update_set = neighbor_set_list[min_index].difference(solved_set)\n",
    "    considered_set = considered_set.union(update_set)\n",
    "\n",
    "print(\"Calculations complete\")"
   ]
  },
  {
   "cell_type": "code",
   "execution_count": 8,
   "metadata": {
    "scrolled": true
   },
   "outputs": [
    {
     "data": {
      "image/png": "[encoded data removed]",
      "text/plain": [
       "<Figure size 432x288 with 1 Axes>"
      ]
     },
     "metadata": {
      "needs_background": "light"
     },
     "output_type": "display_data"
    }
   ],
   "source": [
    "fig1, ax = plt.subplots()\n",
    "CS=plt.tricontour(points[:,0],points[:,1], values,levels=8, linewidths=1.4,colors='black')\n",
    "fmt = '%.2f'\n",
    "ax.clabel(CS,CS.levels[1:4], inline=1, fontsize=12, fmt=fmt)\n",
    "plt.axis('square')\n",
    "plt.xlim([-0.8, 0.8])\n",
    "plt.ylim([-0.8, 0.8])\n",
    "plt.xlabel('$x$', fontsize=16)\n",
    "plt.ylabel('$y$', fontsize=16)\n",
    "plt.tight_layout()\n",
    "plt.savefig('depthcontours_Gaussians'+str(half_sep*2)+'standard.pdf', dpi=300)"
   ]
  }
 ],
 "metadata": {
  "kernelspec": {
   "display_name": "Python 3",
   "language": "python",
   "name": "python3"
  },
  "language_info": {
   "codemirror_mode": {
    "name": "ipython",
    "version": 3
   },
   "file_extension": ".py",
   "mimetype": "text/x-python",
   "name": "python",
   "nbconvert_exporter": "python",
   "pygments_lexer": "ipython3",
   "version": "3.9.5"
  }
 },
 "nbformat": 4,
 "nbformat_minor": 4
}
